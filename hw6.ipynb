{
 "cells": [
  {
   "cell_type": "markdown",
   "metadata": {},
   "source": [
    "# Minst"
   ]
  },
  {
   "cell_type": "markdown",
   "metadata": {},
   "source": [
    "* 하나의 히든 레이어를 도입한다.\n",
    "* input layer는 28*28개의 노드\n",
    "* hidden layer의 노드의 수는 자유롭게 설정해도 좋다.\n",
    "* output은 10개(0~9)로 설정한다."
   ]
  },
  {
   "cell_type": "markdown",
   "metadata": {},
   "source": [
    "### test data를 예측하여 정확도를 최대가 되도록 학습하여라."
   ]
  },
  {
   "cell_type": "markdown",
   "metadata": {},
   "source": [
    "* 제출 시 test data의 정확도를 출력하여 제출하세요."
   ]
  },
  {
   "cell_type": "code",
   "execution_count": 1,
   "metadata": {},
   "outputs": [
    {
     "data": {
      "text/plain": [
       "Dataset MNIST\n",
       "    Number of datapoints: 10000\n",
       "    Root location: data\n",
       "    Split: Test\n",
       "    StandardTransform\n",
       "Transform: ToTensor()"
      ]
     },
     "execution_count": 1,
     "metadata": {},
     "output_type": "execute_result"
    }
   ],
   "source": [
    "import numpy as np\n",
    "import matplotlib.pyplot as plt\n",
    "import torch\n",
    "import torchvision\n",
    "\n",
    "train_data = torchvision.datasets.MNIST(\n",
    "    root = 'data',\n",
    "    train = True,                         \n",
    "    transform = torchvision.transforms.ToTensor(), \n",
    "    download = True,            \n",
    ")\n",
    "test_data = torchvision.datasets.MNIST(\n",
    "    root = 'data', \n",
    "    train = False, \n",
    "    transform = torchvision.transforms.ToTensor()\n",
    ")\n",
    "\n",
    "train_data\n",
    "\n",
    "test_data # 제출시 이 test 데이터에 대한 정확도를 출력하세요."
   ]
  },
  {
   "cell_type": "code",
   "execution_count": 2,
   "metadata": {},
   "outputs": [],
   "source": [
    "X = torch.flatten(train_data.data, start_dim=1).float()\n",
    "y = train_data.targets\n",
    "X=X/255 "
   ]
  },
  {
   "cell_type": "code",
   "execution_count": 3,
   "metadata": {},
   "outputs": [],
   "source": [
    "din,dh,dout = 784, [144,64], 10\n",
    "\n",
    "model = torch.nn.Sequential(\n",
    "    torch.nn.Linear(din, dh[0]),\n",
    "    torch.nn.ReLU(),\n",
    "    torch.nn.Linear(dh[0], dh[1]),\n",
    "    torch.nn.ReLU(),\n",
    "    torch.nn.Linear(dh[1], dout),\n",
    "    torch.nn.Softmax(dim=1)\n",
    ")\n",
    "\n",
    "learning_rate = 0.001\n",
    "criterion = torch.nn.CrossEntropyLoss()\n",
    "optimizer = torch.optim.Adam(model.parameters(),lr = learning_rate)"
   ]
  },
  {
   "cell_type": "code",
   "execution_count": 4,
   "metadata": {},
   "outputs": [],
   "source": [
    "# learning\n",
    "nums_epoch = 1000\n",
    "def train(model, criterion, optimizer, nums_epoch, X,y):\n",
    "    for epoch in range(nums_epoch):\n",
    "        y_pred = model(X)\n",
    "        loss = criterion(y_pred,y)\n",
    "        optimizer.zero_grad() # zero_grad(): 미분값 초기화\n",
    "        loss.backward() # backpropagation\n",
    "        optimizer.step() # update weights and biases\n",
    "        \n",
    "        if(epoch%100==0):\n",
    "            prediction = y_pred.max(1)[1] # max indices\n",
    "            corrects = (prediction == y)\n",
    "            accuracy = corrects.sum().float() / float( y.size(0) )\n",
    "            print(epoch, \"loss=\", loss.item(), \"accu=\", accuracy.item())"
   ]
  },
  {
   "cell_type": "code",
   "execution_count": 6,
   "metadata": {},
   "outputs": [
    {
     "name": "stdout",
     "output_type": "stream",
     "text": [
      "0 loss= 2.30273175239563 accu= 0.10048333555459976\n",
      "100 loss= 1.6312426328659058 accu= 0.8428500294685364\n",
      "200 loss= 1.6040241718292236 accu= 0.8628166913986206\n",
      "300 loss= 1.5924166440963745 accu= 0.8727333545684814\n",
      "400 loss= 1.5172631740570068 accu= 0.9504166841506958\n",
      "500 loss= 1.5020148754119873 accu= 0.9644500017166138\n",
      "600 loss= 1.493234395980835 accu= 0.971916675567627\n",
      "700 loss= 1.4874448776245117 accu= 0.9768999814987183\n",
      "800 loss= 1.4830926656723022 accu= 0.980566680431366\n",
      "900 loss= 1.480494499206543 accu= 0.982366681098938\n"
     ]
    }
   ],
   "source": [
    "train(model,criterion, optimizer,nums_epoch, X, y);"
   ]
  },
  {
   "cell_type": "code",
   "execution_count": 7,
   "metadata": {},
   "outputs": [],
   "source": [
    "# training\n",
    "nums_epoch = 1000\n",
    "def train_val(model, criterion, optimizer, nums_epoch, X, y,X_test, y_test):\n",
    "    for epoch in range(nums_epoch):\n",
    "        y_pred = model(X)\n",
    "        loss = criterion(y_pred,y)\n",
    "        \n",
    "        optimizer.zero_grad() # zero_grad(): 미분값 초기화\n",
    "        loss.backward() # backpropagation\n",
    "        optimizer.step() # update weights and biases\n",
    "        \n",
    "        if(epoch%100==0):\n",
    "            y_pred = model(X)\n",
    "            prediction = y_pred.max(1)[1] # max indices\n",
    "            corrects = (prediction == y)\n",
    "            accuracy_train = corrects.sum().float() / float( y.size(0) )\n",
    "            \n",
    "            y_test_pred = model(X_test)\n",
    "            test_prediction = y_test_pred.max(1)[1] # max indices\n",
    "            test_corrects = (test_prediction == y_test)\n",
    "            accuracy_test = test_corrects.sum().float() / float( y_test_pred.size(0) )\n",
    "            print(epoch, \"train=\", accuracy_train.item(), \"test=\", accuracy_test.item())"
   ]
  },
  {
   "cell_type": "code",
   "execution_count": 8,
   "metadata": {},
   "outputs": [],
   "source": [
    "X_test=torch.flatten(test_data.data,start_dim=1).float()\n",
    "y_test=test_data.targets\n",
    "X_test=X_test/255 "
   ]
  },
  {
   "cell_type": "code",
   "execution_count": 9,
   "metadata": {},
   "outputs": [
    {
     "name": "stdout",
     "output_type": "stream",
     "text": [
      "0 train= 0.9835000038146973 test= 0.9627000093460083\n",
      "100 train= 0.9844333529472351 test= 0.9632999897003174\n",
      "200 train= 0.9850833415985107 test= 0.9639000296592712\n",
      "300 train= 0.9856666922569275 test= 0.9642999768257141\n",
      "400 train= 0.9860666394233704 test= 0.9646000266075134\n",
      "500 train= 0.986299991607666 test= 0.964900016784668\n",
      "600 train= 0.9865833520889282 test= 0.9652000069618225\n",
      "700 train= 0.9869999885559082 test= 0.9646999835968018\n",
      "800 train= 0.9873499870300293 test= 0.9661999940872192\n",
      "900 train= 0.9876333475112915 test= 0.9656999707221985\n"
     ]
    }
   ],
   "source": [
    "train_val(model, criterion, optimizer, nums_epoch, X, y , X_test, y_test)"
   ]
  }
 ],
 "metadata": {
  "kernelspec": {
   "display_name": "Python 3",
   "language": "python",
   "name": "python3"
  },
  "language_info": {
   "codemirror_mode": {
    "name": "ipython",
    "version": 3
   },
   "file_extension": ".py",
   "mimetype": "text/x-python",
   "name": "python",
   "nbconvert_exporter": "python",
   "pygments_lexer": "ipython3",
   "version": "3.8.8"
  }
 },
 "nbformat": 4,
 "nbformat_minor": 4
}
